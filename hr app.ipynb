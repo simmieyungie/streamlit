{
 "cells": [
  {
   "cell_type": "code",
   "execution_count": 7,
   "id": "b491b2cb",
   "metadata": {},
   "outputs": [
    {
     "name": "stdout",
     "output_type": "stream",
     "text": [
      "C:\\Users\\SIMIYOUNG\\Documents\\Python-Projects\\streamlit\n"
     ]
    }
   ],
   "source": [
    "#Configure os folder\n",
    "import os\n",
    "# Create a folder for the pipeline step files\n",
    "experiment_folder = r'C:\\Users\\SIMIYOUNG\\Documents\\Python-Projects\\streamlit'\n",
    "os.makedirs(experiment_folder, exist_ok=True)\n",
    "\n",
    "print(experiment_folder)"
   ]
  },
  {
   "cell_type": "code",
   "execution_count": 2,
   "id": "47e2f740",
   "metadata": {},
   "outputs": [],
   "source": [
    "\n",
    "#!pip install streamlit"
   ]
  },
  {
   "cell_type": "code",
   "execution_count": 40,
   "id": "a2ce8dc9",
   "metadata": {},
   "outputs": [
    {
     "name": "stdout",
     "output_type": "stream",
     "text": [
      "Overwriting C:\\Users\\SIMIYOUNG\\Documents\\Python-Projects\\streamlit/hr_app.py\n"
     ]
    }
   ],
   "source": [
    "%%writefile $experiment_folder/hr_app.py\n",
    "\"\"\"\n",
    "Created on Mon Sep 20 00:11:37 2021\n",
    "@author: SIMIYOUNG\n",
    "\"\"\"\n",
    "\n",
    "import streamlit as st\n",
    "import pandas as pd\n",
    "\n",
    "#encoder\n",
    "#encodder\n",
    "def encoder(x):\n",
    "    if x == True:\n",
    "        return 1\n",
    "    else:\n",
    "        return 0\n",
    "\n",
    "#header and title\n",
    "st.title(\"HR Predictive Model\")\n",
    "\n",
    "#side bar form\n",
    "with st.form(key = \"features\"):\n",
    "    with st.sidebar:\n",
    "        #read in dataset\n",
    "        df = pd.read_csv(\"https://raw.githubusercontent.com/simmieyungie/HR-Analytics/master/attrition.csv\")\n",
    "        \n",
    "        st.sidebar.header(\"Select input features for sidebar\")\n",
    "        #side bar title\n",
    "        \n",
    "        #enter satisfaction level score\n",
    "        st.sidebar.subheader(\"Satistfaction Level\")\n",
    "        satisfaction = st.sidebar.number_input(\"Enter satisfaction score\")\n",
    "        st.sidebar.write(\"The current satisfaction is\", round(satisfaction, 2))\n",
    "        \n",
    "        #enter satisfaction level score\n",
    "        st.sidebar.subheader(\"Last Evaluation\")\n",
    "        evaluation = st.sidebar.number_input(\"Enter Evaluation score\")\n",
    "        \n",
    "        #number of projects taken\n",
    "        st.sidebar.subheader(\"Number of Projects\")\n",
    "        projects = st.sidebar.number_input(\"Projects undertaken\", min_value = 0, max_value = 10, step = 1)\n",
    "        \n",
    "        \n",
    "        #average monthly hours\n",
    "        st.sidebar.subheader(\"Monthly Hours\")\n",
    "        hours = st.sidebar.number_input(\"Average Monthlyh Hours\", \n",
    "                                        min_value = df.average_montly_hours.min(), max_value = df.average_montly_hours.max(), step = 1)\n",
    "        \n",
    "        #time spent in company\n",
    "        st.sidebar.subheader(\"Time spent in company\")\n",
    "        time_spent = st.sidebar.number_input(\"Time in company\", min_value = 0, max_value = df.time_spend_company.max(), step = 1)\n",
    "        \n",
    "        #Work accident\n",
    "        st.sidebar.subheader(\"Work Accident\")\n",
    "        accident = st.sidebar.checkbox(\"Work Accident?\")\n",
    "        \n",
    "        #little message to affirm work accident or not\n",
    "        if accident == True:\n",
    "            st.sidebar.write(\"Yes, workaccident\")\n",
    "        else:\n",
    "            st.sidebar.write(\"No workaccident\")\n",
    "        \n",
    "        accident = encoder(accident)\n",
    "        \n",
    "        \n",
    "        #promotion\n",
    "        st.sidebar.subheader(\"Promotion in five years\")\n",
    "        promotion = st.sidebar.checkbox(\"Promotion?\")\n",
    "        \n",
    "        #encode promotion\n",
    "        promotion = encoder(promotion)\n",
    "        \n",
    "        #department\n",
    "        st.sidebar.subheader(\"Department\")\n",
    "        \n",
    "        #get departments\n",
    "        dept_list =  list(df.dept.unique())#.sort(reverse=True)\n",
    "        dept_list.sort()\n",
    "        dept = st.sidebar.selectbox(\"Select department\", options = dept_list) #come back to sort it\n",
    "        \n",
    "        #get salaryt\n",
    "        st.sidebar.subheader(\"Salary\")\n",
    "        #get salary\n",
    "        sal_list = list(df.salary.unique())#.sort(reverse=True)\n",
    "        \n",
    "        salary = st.sidebar.selectbox(\"Select Salary Range\", options = sal_list) #come back to sort it\n",
    "        \n",
    "        #predict button\n",
    "        feature_run = st.form_submit_button(\"Run\")\n",
    "        \n",
    "#data display container        \n",
    "data = st.container()\n",
    "\n",
    "#build dataframe from user inputs\n",
    "with data:\n",
    "#if submit button (feature_run) is clicked\n",
    "    if feature_run:\n",
    "        input_features = {'satisfaction_level' : satisfaction, 'last_evaluation' : evaluation, \n",
    "                  'number_project' : projects, 'average_montly_hours' : \n",
    "                  hours, 'time_spend_company' : time_spent, 'Work_accident' : accident, \n",
    "                  'promotion_last_5years' : promotion, 'dept' : dept, 'salary' : salary}\n",
    "        \n",
    "        #create dataframe from dicts\n",
    "        inputs = pd.DataFrame(input_features, index=[0])\n",
    "        \n",
    "        #write data\n",
    "        st.write(inputs)\n",
    "        \n",
    "#Prediction result"
   ]
  },
  {
   "cell_type": "code",
   "execution_count": 30,
   "id": "cadb6d46",
   "metadata": {},
   "outputs": [
    {
     "ename": "NameError",
     "evalue": "name 'promotion' is not defined",
     "output_type": "error",
     "traceback": [
      "\u001b[1;31m---------------------------------------------------------------------------\u001b[0m",
      "\u001b[1;31mNameError\u001b[0m                                 Traceback (most recent call last)",
      "\u001b[1;32m<ipython-input-30-53e0541df798>\u001b[0m in \u001b[0;36m<module>\u001b[1;34m\u001b[0m\n\u001b[0;32m      1\u001b[0m \u001b[1;31m#combine values\u001b[0m\u001b[1;33m\u001b[0m\u001b[1;33m\u001b[0m\u001b[1;33m\u001b[0m\u001b[0m\n\u001b[0;32m      2\u001b[0m \u001b[1;33m\u001b[0m\u001b[0m\n\u001b[1;32m----> 3\u001b[1;33m \u001b[1;33m[\u001b[0m\u001b[0msatisfaction\u001b[0m\u001b[1;33m,\u001b[0m \u001b[0mevaluation\u001b[0m\u001b[1;33m,\u001b[0m \u001b[0mprojects\u001b[0m\u001b[1;33m,\u001b[0m \u001b[0mhours\u001b[0m\u001b[1;33m,\u001b[0m \u001b[0mtime_spent\u001b[0m\u001b[1;33m,\u001b[0m \u001b[0maccident\u001b[0m\u001b[1;33m,\u001b[0m\u001b[0mpromotion\u001b[0m\u001b[1;33m,\u001b[0m \u001b[0mdept\u001b[0m\u001b[1;33m,\u001b[0m \u001b[0msalary\u001b[0m\u001b[1;33m]\u001b[0m\u001b[1;33m\u001b[0m\u001b[1;33m\u001b[0m\u001b[0m\n\u001b[0m",
      "\u001b[1;31mNameError\u001b[0m: name 'promotion' is not defined"
     ]
    }
   ],
   "source": [
    "#combine values\n",
    "\n",
    "[satisfaction, evaluation, projects, hours, time_spent, accident,promotion, dept, salary]"
   ]
  },
  {
   "cell_type": "code",
   "execution_count": 39,
   "id": "2f2c2a6d",
   "metadata": {},
   "outputs": [
    {
     "data": {
      "text/html": [
       "<div>\n",
       "<style scoped>\n",
       "    .dataframe tbody tr th:only-of-type {\n",
       "        vertical-align: middle;\n",
       "    }\n",
       "\n",
       "    .dataframe tbody tr th {\n",
       "        vertical-align: top;\n",
       "    }\n",
       "\n",
       "    .dataframe thead th {\n",
       "        text-align: right;\n",
       "    }\n",
       "</style>\n",
       "<table border=\"1\" class=\"dataframe\">\n",
       "  <thead>\n",
       "    <tr style=\"text-align: right;\">\n",
       "      <th></th>\n",
       "      <th>satisfaction_level</th>\n",
       "      <th>last_evaluation</th>\n",
       "      <th>number_project</th>\n",
       "      <th>average_montly_hours</th>\n",
       "      <th>time_spend_company</th>\n",
       "      <th>Work_accident</th>\n",
       "      <th>promotion_last_5years</th>\n",
       "      <th>dept</th>\n",
       "      <th>salary</th>\n",
       "    </tr>\n",
       "  </thead>\n",
       "  <tbody>\n",
       "    <tr>\n",
       "      <th>0</th>\n",
       "      <td>0.0</td>\n",
       "      <td>0.0</td>\n",
       "      <td>0</td>\n",
       "      <td>96</td>\n",
       "      <td>0</td>\n",
       "      <td>False</td>\n",
       "      <td>1</td>\n",
       "      <td>sales</td>\n",
       "      <td>low</td>\n",
       "    </tr>\n",
       "  </tbody>\n",
       "</table>\n",
       "</div>"
      ],
      "text/plain": [
       "   satisfaction_level  last_evaluation  number_project  average_montly_hours  \\\n",
       "0                 0.0              0.0               0                    96   \n",
       "\n",
       "   time_spend_company  Work_accident  promotion_last_5years   dept salary  \n",
       "0                   0          False                      1  sales    low  "
      ]
     },
     "execution_count": 39,
     "metadata": {},
     "output_type": "execute_result"
    }
   ],
   "source": [
    "promotion = 1\n"
   ]
  },
  {
   "cell_type": "code",
   "execution_count": 6,
   "id": "3c6b3bca",
   "metadata": {},
   "outputs": [],
   "source": [
    "dept_list =  list(df.dept.unique())\n",
    "dept_list.sort()"
   ]
  },
  {
   "cell_type": "code",
   "execution_count": 27,
   "id": "37821f31",
   "metadata": {},
   "outputs": [
    {
     "name": "stdout",
     "output_type": "stream",
     "text": [
      "^C\n"
     ]
    }
   ],
   "source": [
    "!streamlit run hr_app.py"
   ]
  }
 ],
 "metadata": {
  "kernelspec": {
   "display_name": "Python 3",
   "language": "python",
   "name": "python3"
  },
  "language_info": {
   "codemirror_mode": {
    "name": "ipython",
    "version": 3
   },
   "file_extension": ".py",
   "mimetype": "text/x-python",
   "name": "python",
   "nbconvert_exporter": "python",
   "pygments_lexer": "ipython3",
   "version": "3.8.8"
  }
 },
 "nbformat": 4,
 "nbformat_minor": 5
}
