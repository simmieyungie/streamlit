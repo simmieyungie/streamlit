{
 "cells": [
  {
   "cell_type": "code",
   "execution_count": 7,
   "id": "6575a160",
   "metadata": {},
   "outputs": [
    {
     "name": "stdout",
     "output_type": "stream",
     "text": [
      "C:\\Users\\SIMIYOUNG\\Documents\\Python-Projects\\streamlit\n"
     ]
    }
   ],
   "source": [
    "#Configure os folder\n",
    "import os\n",
    "# Create a folder for the pipeline step files\n",
    "experiment_folder = r'C:\\Users\\SIMIYOUNG\\Documents\\Python-Projects\\streamlit'\n",
    "os.makedirs(experiment_folder, exist_ok=True)\n",
    "\n",
    "print(experiment_folder)"
   ]
  },
  {
   "cell_type": "code",
   "execution_count": 8,
   "id": "7c3db84a",
   "metadata": {},
   "outputs": [
    {
     "name": "stdout",
     "output_type": "stream",
     "text": [
      "Overwriting C:\\Users\\SIMIYOUNG\\Documents\\Python-Projects\\streamlit/hr_app.py\n"
     ]
    }
   ],
   "source": [
    "%%writefile $experiment_folder/hr_app.py\n",
    "\"\"\"\n",
    "Created on Mon Sep 20 00:11:37 2021\n",
    "@author: SIMIYOUNG\n",
    "\"\"\"\n",
    "\n",
    "import streamlit as st\n",
    "import pandas as pd\n",
    "\n",
    "#header and title\n",
    "st.title(\"HR Predictive Model\")\n",
    "\n",
    "#side bar form\n",
    "with st.form(key = \"features\"):\n",
    "    with st.sidebar:\n",
    "        #read in dataset\n",
    "        df = pd.read_csv(\"https://raw.githubusercontent.com/simmieyungie/HR-Analytics/master/attrition.csv\")\n",
    "        \n",
    "        st.sidebar.header(\"Select input features for sidebar\")\n",
    "        #side bar title\n",
    "        \n",
    "        #enter satisfaction level score\n",
    "        st.sidebar.subheader(\"Satistfaction Level\")\n",
    "        satisfaction = st.sidebar.number_input(\"Enter satisfaction score\")\n",
    "        st.sidebar.write(\"The current satisfaction is\", round(satisfaction, 2))\n",
    "        \n",
    "        #enter satisfaction level score\n",
    "        st.sidebar.subheader(\"Last Evaluation\")\n",
    "        evaluation = st.sidebar.number_input(\"Enter Evaluation score\")\n",
    "        \n",
    "        #number of projects taken\n",
    "        st.sidebar.subheader(\"Number of Projects\")\n",
    "        projects = st.sidebar.number_input(\"Projects undertaken\", min_value = 0, max_value = 10, step = 1)\n",
    "        \n",
    "        \n",
    "        #average monthly hours\n",
    "        st.sidebar.subheader(\"Monthly Hours\")\n",
    "        hours = st.sidebar.number_input(\"Average Monthlyh Hours\", \n",
    "                                        min_value = df.average_montly_hours.min(), max_value = df.average_montly_hours.max(), step = 1)\n",
    "        \n",
    "        #time spent in company\n",
    "        st.sidebar.subheader(\"Time spent in company\")\n",
    "        time_spent = st.sidebar.number_input(\"Time in company\", min_value = 0, max_value = df.time_spend_company.max(), step = 1)\n",
    "        \n",
    "        #Work accident\n",
    "        st.sidebar.subheader(\"Work Accident\")\n",
    "        accident = st.sidebar.checkbox(\"Work Accident?\")\n",
    "        \n",
    "        #little message to affirm work accident or not\n",
    "        if accident == True:\n",
    "            st.sidebar.write(\"Yes, workaccident\")\n",
    "        else:\n",
    "            st.sidebar.write(\"No workaccident\")\n",
    "        \n",
    "        #department\n",
    "        st.sidebar.subheader(\"Department\")\n",
    "        \n",
    "        #get departments\n",
    "        dept_list =  list(df.dept.unique())#.sort(reverse=True)\n",
    "        dept_list.sort()\n",
    "        dept = st.sidebar.selectbox(\"Select department\", options = dept_list) #come back to sort it\n",
    "        \n",
    "        #get salaryt\n",
    "        st.sidebar.subheader(\"Salary\")\n",
    "        #get salary\n",
    "        sal_list = list(df.salary.unique())#.sort(reverse=True)\n",
    "        \n",
    "        salary = st.sidebar.selectbox(\"Select Salary Range\", options = sal_list) #come back to sort it\n",
    "        \n",
    "        #predict button\n",
    "        feature_run = st.form_submit_button(\"Run\")"
   ]
  },
  {
   "cell_type": "code",
   "execution_count": 6,
   "id": "79219fd3",
   "metadata": {},
   "outputs": [],
   "source": [
    "dept_list =  list(df.dept.unique())\n",
    "dept_list.sort()"
   ]
  }
 ],
 "metadata": {
  "kernelspec": {
   "display_name": "Python 3",
   "language": "python",
   "name": "python3"
  },
  "language_info": {
   "codemirror_mode": {
    "name": "ipython",
    "version": 3
   },
   "file_extension": ".py",
   "mimetype": "text/x-python",
   "name": "python",
   "nbconvert_exporter": "python",
   "pygments_lexer": "ipython3",
   "version": "3.8.8"
  }
 },
 "nbformat": 4,
 "nbformat_minor": 5
}
