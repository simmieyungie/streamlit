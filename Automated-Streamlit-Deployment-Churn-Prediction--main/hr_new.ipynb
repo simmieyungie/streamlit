{
 "cells": [
  {
   "cell_type": "code",
   "execution_count": 1,
   "id": "4f71df36",
   "metadata": {},
   "outputs": [
    {
     "name": "stdout",
     "output_type": "stream",
     "text": [
      "C:\\Users\\SIMIYOUNG\\Documents\\Python-Projects\\streamlit\\Automated-Streamlit-Deployment-Churn-Prediction--main\n"
     ]
    }
   ],
   "source": [
    "#Configure os folder\n",
    "import os\n",
    "# Create a folder for the pipeline step files\n",
    "experiment_folder = r'C:\\Users\\SIMIYOUNG\\Documents\\Python-Projects\\streamlit\\Automated-Streamlit-Deployment-Churn-Prediction--main'\n",
    "os.makedirs(experiment_folder, exist_ok=True)\n",
    "\n",
    "print(experiment_folder)"
   ]
  },
  {
   "cell_type": "code",
   "execution_count": 9,
   "id": "e0f85e0b",
   "metadata": {},
   "outputs": [
    {
     "data": {
      "text/plain": [
       "1        0\n",
       "2        0\n",
       "3        0\n",
       "4        0\n",
       "5        0\n",
       "        ..\n",
       "14995    1\n",
       "14996    1\n",
       "14997    1\n",
       "14998    1\n",
       "14999    1\n",
       "Name: status, Length: 14999, dtype: int64"
      ]
     },
     "execution_count": 9,
     "metadata": {},
     "output_type": "execute_result"
    }
   ],
   "source": [
    "#read in \n",
    "import pandas as pd\n",
    "df = pd.read_csv(\"attrition.csv\", index_col = [0])\n",
    "\n",
    "df.head()\n",
    "\n",
    "df[\"\"]"
   ]
  },
  {
   "cell_type": "code",
   "execution_count": 2,
   "id": "3329b39d",
   "metadata": {},
   "outputs": [
    {
     "name": "stdout",
     "output_type": "stream",
     "text": [
      "Writing C:\\Users\\SIMIYOUNG\\Documents\\Python-Projects\\streamlit\\Automated-Streamlit-Deployment-Churn-Prediction--main/hr_new.py\n"
     ]
    }
   ],
   "source": [
    "%%writefile $experiment_folder/hr_new.py\n",
    "import streamlit as st\n",
    "import pandas as pd\n",
    "import numpy as np\n",
    "import seaborn as sns\n",
    "from sklearn.feature_selection import SelectKBest\n",
    "from sklearn.feature_selection import chi2\n",
    "from sklearn.preprocessing import StandardScaler\n",
    "from sklearn.preprocessing import MinMaxScaler\n",
    "from sklearn.preprocessing import RobustScaler\n",
    "from lightgbm import LGBMClassifier\n",
    "from sklearn.ensemble import RandomForestClassifier\n",
    "from sklearn.model_selection import train_test_split\n",
    "from sklearn.metrics import accuracy_score\n",
    "from sklearn.metrics import f1_score\n",
    "from sklearn.metrics import classification_report\n",
    "from sklearn.metrics import confusion_matrix\n",
    "import matplotlib.pyplot as plt\n",
    "import pickle\n",
    "\n",
    "st.set_option('deprecation.showPyplotGlobalUse', False)\n",
    "\n",
    "st.title(\"Employee Churn Prediction\")\n",
    "\n",
    "st.header('Dataset Selection and Loading')\n",
    "dataset_name = st.selectbox(\"Select Datasets\", ['attrition'])\n",
    "st.write('You selected:', dataset_name, 'dataset')\n",
    "\n",
    "\n",
    "def get_dataset():\n",
    "    pd.read_csv(\"attrition.csv\", index_col = [0])\n",
    "    target_column = \"Churn\"\n",
    "    df[\"status\"] = df[\"status\"].replace(['exist', 'left'], [0, 1])\n",
    "    df[\"TotalCharges\"] = pd.to_numeric(df['TotalCharges'], errors='coerce')\n",
    "\n",
    "    return df, target_column"
   ]
  }
 ],
 "metadata": {
  "kernelspec": {
   "display_name": "Python 3",
   "language": "python",
   "name": "python3"
  },
  "language_info": {
   "codemirror_mode": {
    "name": "ipython",
    "version": 3
   },
   "file_extension": ".py",
   "mimetype": "text/x-python",
   "name": "python",
   "nbconvert_exporter": "python",
   "pygments_lexer": "ipython3",
   "version": "3.8.8"
  }
 },
 "nbformat": 4,
 "nbformat_minor": 5
}
